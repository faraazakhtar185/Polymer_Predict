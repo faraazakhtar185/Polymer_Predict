{
  "cells": [
    {
      "cell_type": "code",
      "execution_count": 3,
      "metadata": {
        "colab": {
          "base_uri": "https://localhost:8080/"
        },
        "id": "0nlGhz6YRMRq",
        "outputId": "822b7e8b-c0b3-4777-9845-ad5df26f331b"
      },
      "outputs": [
        {
          "output_type": "stream",
          "name": "stdout",
          "text": [
            "Collecting rdkit\n",
            "  Downloading rdkit-2025.3.5-cp312-cp312-manylinux_2_28_x86_64.whl.metadata (4.1 kB)\n",
            "Collecting torch-geometric\n",
            "  Downloading torch_geometric-2.6.1-py3-none-any.whl.metadata (63 kB)\n",
            "\u001b[?25l     \u001b[90m━━━━━━━━━━━━━━━━━━━━━━━━━━━━━━━━━━━━━━━━\u001b[0m \u001b[32m0.0/63.1 kB\u001b[0m \u001b[31m?\u001b[0m eta \u001b[36m-:--:--\u001b[0m\r\u001b[2K     \u001b[90m━━━━━━━━━━━━━━━━━━━━━━━━━━━━━━━━━━━━━━━━\u001b[0m \u001b[32m63.1/63.1 kB\u001b[0m \u001b[31m5.9 MB/s\u001b[0m eta \u001b[36m0:00:00\u001b[0m\n",
            "\u001b[?25hRequirement already satisfied: numpy in /usr/local/lib/python3.12/dist-packages (from rdkit) (2.0.2)\n",
            "Requirement already satisfied: Pillow in /usr/local/lib/python3.12/dist-packages (from rdkit) (11.3.0)\n",
            "Requirement already satisfied: aiohttp in /usr/local/lib/python3.12/dist-packages (from torch-geometric) (3.12.15)\n",
            "Requirement already satisfied: fsspec in /usr/local/lib/python3.12/dist-packages (from torch-geometric) (2025.3.0)\n",
            "Requirement already satisfied: jinja2 in /usr/local/lib/python3.12/dist-packages (from torch-geometric) (3.1.6)\n",
            "Requirement already satisfied: psutil>=5.8.0 in /usr/local/lib/python3.12/dist-packages (from torch-geometric) (5.9.5)\n",
            "Requirement already satisfied: pyparsing in /usr/local/lib/python3.12/dist-packages (from torch-geometric) (3.2.3)\n",
            "Requirement already satisfied: requests in /usr/local/lib/python3.12/dist-packages (from torch-geometric) (2.32.4)\n",
            "Requirement already satisfied: tqdm in /usr/local/lib/python3.12/dist-packages (from torch-geometric) (4.67.1)\n",
            "Requirement already satisfied: aiohappyeyeballs>=2.5.0 in /usr/local/lib/python3.12/dist-packages (from aiohttp->torch-geometric) (2.6.1)\n",
            "Requirement already satisfied: aiosignal>=1.4.0 in /usr/local/lib/python3.12/dist-packages (from aiohttp->torch-geometric) (1.4.0)\n",
            "Requirement already satisfied: attrs>=17.3.0 in /usr/local/lib/python3.12/dist-packages (from aiohttp->torch-geometric) (25.3.0)\n",
            "Requirement already satisfied: frozenlist>=1.1.1 in /usr/local/lib/python3.12/dist-packages (from aiohttp->torch-geometric) (1.7.0)\n",
            "Requirement already satisfied: multidict<7.0,>=4.5 in /usr/local/lib/python3.12/dist-packages (from aiohttp->torch-geometric) (6.6.4)\n",
            "Requirement already satisfied: propcache>=0.2.0 in /usr/local/lib/python3.12/dist-packages (from aiohttp->torch-geometric) (0.3.2)\n",
            "Requirement already satisfied: yarl<2.0,>=1.17.0 in /usr/local/lib/python3.12/dist-packages (from aiohttp->torch-geometric) (1.20.1)\n",
            "Requirement already satisfied: MarkupSafe>=2.0 in /usr/local/lib/python3.12/dist-packages (from jinja2->torch-geometric) (3.0.2)\n",
            "Requirement already satisfied: charset_normalizer<4,>=2 in /usr/local/lib/python3.12/dist-packages (from requests->torch-geometric) (3.4.3)\n",
            "Requirement already satisfied: idna<4,>=2.5 in /usr/local/lib/python3.12/dist-packages (from requests->torch-geometric) (3.10)\n",
            "Requirement already satisfied: urllib3<3,>=1.21.1 in /usr/local/lib/python3.12/dist-packages (from requests->torch-geometric) (2.5.0)\n",
            "Requirement already satisfied: certifi>=2017.4.17 in /usr/local/lib/python3.12/dist-packages (from requests->torch-geometric) (2025.8.3)\n",
            "Requirement already satisfied: typing-extensions>=4.2 in /usr/local/lib/python3.12/dist-packages (from aiosignal>=1.4.0->aiohttp->torch-geometric) (4.15.0)\n",
            "Downloading rdkit-2025.3.5-cp312-cp312-manylinux_2_28_x86_64.whl (36.2 MB)\n",
            "\u001b[2K   \u001b[90m━━━━━━━━━━━━━━━━━━━━━━━━━━━━━━━━━━━━━━━━\u001b[0m \u001b[32m36.2/36.2 MB\u001b[0m \u001b[31m65.6 MB/s\u001b[0m eta \u001b[36m0:00:00\u001b[0m\n",
            "\u001b[?25hDownloading torch_geometric-2.6.1-py3-none-any.whl (1.1 MB)\n",
            "\u001b[2K   \u001b[90m━━━━━━━━━━━━━━━━━━━━━━━━━━━━━━━━━━━━━━━━\u001b[0m \u001b[32m1.1/1.1 MB\u001b[0m \u001b[31m63.2 MB/s\u001b[0m eta \u001b[36m0:00:00\u001b[0m\n",
            "\u001b[?25hInstalling collected packages: rdkit, torch-geometric\n",
            "Successfully installed rdkit-2025.3.5 torch-geometric-2.6.1\n"
          ]
        }
      ],
      "source": [
        "!pip install rdkit torch-geometric"
      ]
    },
    {
      "cell_type": "code",
      "execution_count": 4,
      "metadata": {
        "id": "-ooGDAIUPPsC"
      },
      "outputs": [],
      "source": [
        "# Core PyTorch and data handling\n",
        "import torch\n",
        "from torch.utils.data import DataLoader\n",
        "import pandas as pd"
      ]
    },
    {
      "cell_type": "code",
      "execution_count": 5,
      "metadata": {
        "colab": {
          "base_uri": "https://localhost:8080/"
        },
        "id": "Q32usxw1N0R_",
        "outputId": "3739d70c-6852-4669-84da-3366d0ffc86c"
      },
      "outputs": [
        {
          "output_type": "stream",
          "name": "stdout",
          "text": [
            "Testing individual imports...\n",
            "SMILESToGraph imported\n",
            "ContrastiveDataset imported\n",
            "ContrastiveLearningModel imported\n",
            "Util functions imported\n"
          ]
        }
      ],
      "source": [
        "# Test individual imports first\n",
        "print(\"Testing individual imports...\")\n",
        "\n",
        "try:\n",
        "    from smile_to_graph import SMILESToGraph\n",
        "    print(\"SMILESToGraph imported\")\n",
        "except Exception as e:\n",
        "    print(f\"SMILESToGraph failed: {e}\")\n",
        "\n",
        "try:\n",
        "    from cl_dataset import ContrastiveDataset\n",
        "    print(\"ContrastiveDataset imported\")\n",
        "except Exception as e:\n",
        "    print(f\"ContrastiveDataset failed: {e}\")\n",
        "\n",
        "try:\n",
        "    from cl_model import ContrastiveLearningModel\n",
        "    print(\"ContrastiveLearningModel imported\")\n",
        "except Exception as e:\n",
        "    print(f\"ContrastiveLearningModel failed: {e}\")\n",
        "\n",
        "try:\n",
        "    from util import collate_contrastive, train_contrastive_model\n",
        "    print(\"Util functions imported\")\n",
        "except Exception as e:\n",
        "    print(f\"Util functions failed: {e}\")"
      ]
    },
    {
      "cell_type": "code",
      "execution_count": 6,
      "metadata": {
        "colab": {
          "base_uri": "https://localhost:8080/"
        },
        "id": "FIL-_ErZOHbu",
        "outputId": "853479cc-dfee-4d24-fc32-8174ba0ad8cf"
      },
      "outputs": [
        {
          "output_type": "stream",
          "name": "stdout",
          "text": [
            "Valid molecules: 4 / 4\n",
            "Found 0 positive pairs\n",
            "Dataset created with 0 examples\n"
          ]
        },
        {
          "output_type": "stream",
          "name": "stderr",
          "text": [
            "[01:07:59] DEPRECATION WARNING: please use MorganGenerator\n",
            "[01:07:59] DEPRECATION WARNING: please use MorganGenerator\n",
            "[01:07:59] DEPRECATION WARNING: please use MorganGenerator\n",
            "[01:07:59] DEPRECATION WARNING: please use MorganGenerator\n"
          ]
        }
      ],
      "source": [
        "# Test dataset creation\n",
        "example_smiles = [\"CCO\", \"CC(C)O\", \"c1ccccc1\", \"c1ccc(C)cc1\"]\n",
        "dataset = ContrastiveDataset(example_smiles, similarity_threshold=0.3)\n",
        "print(f\"Dataset created with {len(dataset)} examples\")"
      ]
    },
    {
      "cell_type": "markdown",
      "metadata": {
        "id": "n-zT6AwqSDGD"
      },
      "source": [
        "Before I start, I'd like to list out some assumptions and problems to make this task more approachable.\n",
        "\n",
        "Problems:\n",
        "- Lots of missing data, but FFV seems to be mostly complete\n",
        "- There is some additional data that seems useful but idrk the efficacy of this data, will need to do something smart to use this\n",
        "- I think there is some merit in trying to find relations between different properties between materials and choosing how to go about it this way\n",
        "\n",
        "assumptions:\n",
        "- Similar chemical structures have similar properties, making this very clearly a language problem, we can maybe use some sort of attention mechanism to learn what structures exist within the material\n",
        "- We can test this idea by seeing how well we perform at FFV and then try to see what we can do with the rest\n"
      ]
    },
    {
      "cell_type": "code",
      "execution_count": 8,
      "metadata": {
        "id": "SscPxt6pPNLP"
      },
      "outputs": [],
      "source": [
        "#load data\n",
        "train = pd.read_csv('train.csv')\n",
        "test = pd.read_csv('test.csv')"
      ]
    },
    {
      "cell_type": "code",
      "execution_count": null,
      "metadata": {
        "colab": {
          "base_uri": "https://localhost:8080/"
        },
        "id": "NuWhNztPPW0l",
        "outputId": "6e65704c-a943-4e52-d699-1300781cbb83"
      },
      "outputs": [
        {
          "name": "stdout",
          "output_type": "stream",
          "text": [
            "       id                                             SMILES  Tg       FFV  \\\n",
            "0   87817                         *CC(*)c1ccccc1C(=O)OCCCCCC NaN  0.374645   \n",
            "1  106919  *Nc1ccc([C@H](CCC)c2ccc(C3(c4ccc([C@@H](CCC)c5... NaN  0.370410   \n",
            "2  388772  *Oc1ccc(S(=O)(=O)c2ccc(Oc3ccc(C4(c5ccc(Oc6ccc(... NaN  0.378860   \n",
            "3  519416  *Nc1ccc(-c2c(-c3ccc(C)cc3)c(-c3ccc(C)cc3)c(N*)... NaN  0.387324   \n",
            "4  539187  *Oc1ccc(OC(=O)c2cc(OCCCCCCCCCOCC3CCCN3c3ccc([N... NaN  0.355470   \n",
            "\n",
            "         Tc  Density  Rg  \n",
            "0  0.205667      NaN NaN  \n",
            "1       NaN      NaN NaN  \n",
            "2       NaN      NaN NaN  \n",
            "3       NaN      NaN NaN  \n",
            "4       NaN      NaN NaN  \n"
          ]
        }
      ],
      "source": [
        "print(train.head())"
      ]
    },
    {
      "cell_type": "code",
      "execution_count": null,
      "metadata": {
        "colab": {
          "base_uri": "https://localhost:8080/"
        },
        "id": "2LD-D8VMZpXN",
        "outputId": "d143d0dc-65f2-400a-bca3-c67d2969b82b"
      },
      "outputs": [
        {
          "name": "stdout",
          "output_type": "stream",
          "text": [
            "7973 7208\n"
          ]
        }
      ],
      "source": [
        "smiles = list(train['SMILES'])\n",
        "add_smiles = pd.read_csv('dataset2.csv')\n",
        "add_smiles = list(add_smiles['SMILES'])\n",
        "print(len(smiles), len(add_smiles))\n",
        "tot_smiles = list(set(smiles + add_smiles))"
      ]
    },
    {
      "cell_type": "code",
      "execution_count": null,
      "metadata": {
        "colab": {
          "base_uri": "https://localhost:8080/"
        },
        "id": "SdVOAux3HvWC",
        "outputId": "8f02d81d-8dd7-430c-83bd-e9fbd373d858"
      },
      "outputs": [
        {
          "name": "stdout",
          "output_type": "stream",
          "text": [
            "Setting up contrastive learning...\n",
            "Valid molecules: 8 / 8\n",
            "Found 2 positive pairs\n",
            "Training on cuda\n",
            "Model has 441280 parameters\n"
          ]
        },
        {
          "name": "stderr",
          "output_type": "stream",
          "text": [
            "Epoch 1/5: 100%|██████████| 1/1 [00:01<00:00,  1.21s/it, Loss=0.6978]\n"
          ]
        },
        {
          "name": "stdout",
          "output_type": "stream",
          "text": [
            "Epoch 1, Average Loss: 0.6978\n"
          ]
        },
        {
          "name": "stderr",
          "output_type": "stream",
          "text": [
            "Epoch 2/5: 100%|██████████| 1/1 [00:00<00:00, 30.29it/s, Loss=0.7123]\n"
          ]
        },
        {
          "name": "stdout",
          "output_type": "stream",
          "text": [
            "Epoch 2, Average Loss: 0.7123\n"
          ]
        },
        {
          "name": "stderr",
          "output_type": "stream",
          "text": [
            "Epoch 3/5: 100%|██████████| 1/1 [00:00<00:00, 35.68it/s, Loss=0.6915]\n"
          ]
        },
        {
          "name": "stdout",
          "output_type": "stream",
          "text": [
            "Epoch 3, Average Loss: 0.6915\n"
          ]
        },
        {
          "name": "stderr",
          "output_type": "stream",
          "text": [
            "Epoch 4/5: 100%|██████████| 1/1 [00:00<00:00, 32.94it/s, Loss=0.6549]\n"
          ]
        },
        {
          "name": "stdout",
          "output_type": "stream",
          "text": [
            "Epoch 4, Average Loss: 0.6549\n"
          ]
        },
        {
          "name": "stderr",
          "output_type": "stream",
          "text": [
            "Epoch 5/5: 100%|██████████| 1/1 [00:00<00:00, 36.25it/s, Loss=0.5911]"
          ]
        },
        {
          "name": "stdout",
          "output_type": "stream",
          "text": [
            "Epoch 5, Average Loss: 0.5911\n"
          ]
        },
        {
          "name": "stderr",
          "output_type": "stream",
          "text": [
            "\n"
          ]
        }
      ],
      "source": [
        "# Example SMILES strings to test\n",
        "example_smiles = [\n",
        "        \"CCO\",  # ethanol\n",
        "        \"CC(C)O\",  # isopropanol\n",
        "        \"CCCCCCCCCCCCCCCCCC(=O)O\",  # stearic acid\n",
        "        \"CC(C)(C)C\",  # tert-butane\n",
        "        \"c1ccccc1\",  # benzene\n",
        "        \"c1ccc2c(c1)cccc2\",  # naphthalene\n",
        "        \"CC(=O)O\",  # acetic acid\n",
        "        \"CC(C)(C)O\"  # tert-butanol\n",
        "    ]\n",
        "print(\"Setting up contrastive learning...\")\n",
        "\n",
        "# Create dataset\n",
        "dataset = ContrastiveDataset(example_smiles, similarity_threshold=0.3)  # Lower threshold for small example\n",
        "dataloader = DataLoader(dataset, batch_size=4, shuffle=True, collate_fn=collate_contrastive)\n",
        "\n",
        "# Initialize model\n",
        "device = torch.device('cuda' if torch.cuda.is_available() else 'cpu')\n",
        "model = ContrastiveLearningModel().to(device)\n",
        "optimizer = torch.optim.Adam(model.parameters(), lr=0.001)\n",
        "\n",
        "print(f\"Training on {device}\")\n",
        "print(f\"Model has {sum(p.numel() for p in model.parameters())} parameters\")\n",
        "\n",
        "# Train model\n",
        "train_contrastive_model(model, dataloader, optimizer, device, num_epochs=5)"
      ]
    },
    {
      "cell_type": "code",
      "execution_count": null,
      "metadata": {
        "colab": {
          "base_uri": "https://localhost:8080/"
        },
        "id": "-DRKH4R4PehV",
        "outputId": "f47940c1-a77b-431a-d65e-50dd8ed9e9f3"
      },
      "outputs": [
        {
          "name": "stdout",
          "output_type": "stream",
          "text": [
            "\n",
            "--- Testing threshold 0.8 ---\n",
            "Valid molecules: 1000 / 1000\n",
            "Found 304 positive pairs\n",
            "Found 304 positive pairs\n",
            "\n",
            "--- Testing threshold 0.7 ---\n",
            "Valid molecules: 1000 / 1000\n",
            "Found 602 positive pairs\n",
            "Found 602 positive pairs\n",
            "\n",
            "--- Testing threshold 0.6 ---\n",
            "Valid molecules: 1000 / 1000\n",
            "Found 969 positive pairs\n",
            "Found 969 positive pairs\n"
          ]
        }
      ],
      "source": [
        "for threshold in [0.8, 0.7, 0.6]:\n",
        "    print(f\"\\n--- Testing threshold {threshold} ---\")\n",
        "    dataset = ContrastiveDataset(tot_smiles[:1000], similarity_threshold=threshold)  # Test on first 1000\n",
        "    print(f\"Found {len(dataset.positive_pairs)} positive pairs\")"
      ]
    },
    {
      "cell_type": "code",
      "execution_count": null,
      "metadata": {
        "colab": {
          "base_uri": "https://localhost:8080/",
          "height": 1000
        },
        "id": "TxTxb0q_PKuP",
        "outputId": "49382e80-3f7d-44f3-a41e-0519b2e8626a"
      },
      "outputs": [
        {
          "metadata": {
            "tags": null
          },
          "name": "stdout",
          "output_type": "stream",
          "text": [
            "Valid molecules: 9956 / 9956\n",
            "Found 18652 positive pairs\n",
            "Training on cuda\n",
            "Model has 441280 parameters\n"
          ]
        },
        {
          "metadata": {
            "tags": null
          },
          "name": "stderr",
          "output_type": "stream",
          "text": [
            "Epoch 1/50: 100%|██████████| 583/583 [13:14<00:00,  1.36s/it, Loss=0.0903]\n"
          ]
        },
        {
          "metadata": {
            "tags": null
          },
          "name": "stdout",
          "output_type": "stream",
          "text": [
            "Epoch 1, Average Loss: 0.1319\n"
          ]
        },
        {
          "metadata": {
            "tags": null
          },
          "name": "stderr",
          "output_type": "stream",
          "text": [
            "Epoch 2/50: 100%|██████████| 583/583 [13:13<00:00,  1.36s/it, Loss=0.0256]\n"
          ]
        },
        {
          "metadata": {
            "tags": null
          },
          "name": "stdout",
          "output_type": "stream",
          "text": [
            "Epoch 2, Average Loss: 0.0800\n"
          ]
        },
        {
          "metadata": {
            "tags": null
          },
          "name": "stderr",
          "output_type": "stream",
          "text": [
            "Epoch 3/50: 100%|██████████| 583/583 [13:12<00:00,  1.36s/it, Loss=0.0198]\n"
          ]
        },
        {
          "metadata": {
            "tags": null
          },
          "name": "stdout",
          "output_type": "stream",
          "text": [
            "Epoch 3, Average Loss: 0.0404\n"
          ]
        },
        {
          "metadata": {
            "tags": null
          },
          "name": "stderr",
          "output_type": "stream",
          "text": [
            "Epoch 4/50: 100%|██████████| 583/583 [13:13<00:00,  1.36s/it, Loss=0.0237]\n"
          ]
        },
        {
          "metadata": {
            "tags": null
          },
          "name": "stdout",
          "output_type": "stream",
          "text": [
            "Epoch 4, Average Loss: 0.0311\n"
          ]
        },
        {
          "metadata": {
            "tags": null
          },
          "name": "stderr",
          "output_type": "stream",
          "text": [
            "Epoch 5/50: 100%|██████████| 583/583 [13:14<00:00,  1.36s/it, Loss=0.0092]\n"
          ]
        },
        {
          "metadata": {
            "tags": null
          },
          "name": "stdout",
          "output_type": "stream",
          "text": [
            "Epoch 5, Average Loss: 0.0256\n"
          ]
        },
        {
          "metadata": {
            "tags": null
          },
          "name": "stderr",
          "output_type": "stream",
          "text": [
            "Epoch 6/50: 100%|██████████| 583/583 [13:13<00:00,  1.36s/it, Loss=0.0012]\n"
          ]
        },
        {
          "metadata": {
            "tags": null
          },
          "name": "stdout",
          "output_type": "stream",
          "text": [
            "Epoch 6, Average Loss: 0.0208\n"
          ]
        },
        {
          "metadata": {
            "tags": null
          },
          "name": "stderr",
          "output_type": "stream",
          "text": [
            "Epoch 7/50: 100%|██████████| 583/583 [13:13<00:00,  1.36s/it, Loss=0.0118]\n"
          ]
        },
        {
          "metadata": {
            "tags": null
          },
          "name": "stdout",
          "output_type": "stream",
          "text": [
            "Epoch 7, Average Loss: 0.0203\n"
          ]
        },
        {
          "metadata": {
            "tags": null
          },
          "name": "stderr",
          "output_type": "stream",
          "text": [
            "Epoch 8/50: 100%|██████████| 583/583 [13:13<00:00,  1.36s/it, Loss=0.0199]\n"
          ]
        },
        {
          "metadata": {
            "tags": null
          },
          "name": "stdout",
          "output_type": "stream",
          "text": [
            "Epoch 8, Average Loss: 0.0182\n"
          ]
        },
        {
          "metadata": {
            "tags": null
          },
          "name": "stderr",
          "output_type": "stream",
          "text": [
            "Epoch 9/50: 100%|██████████| 583/583 [13:14<00:00,  1.36s/it, Loss=0.0197]\n"
          ]
        },
        {
          "metadata": {
            "tags": null
          },
          "name": "stdout",
          "output_type": "stream",
          "text": [
            "Epoch 9, Average Loss: 0.0190\n"
          ]
        },
        {
          "metadata": {
            "tags": null
          },
          "name": "stderr",
          "output_type": "stream",
          "text": [
            "Epoch 10/50: 100%|██████████| 583/583 [13:14<00:00,  1.36s/it, Loss=0.0141]\n"
          ]
        },
        {
          "metadata": {
            "tags": null
          },
          "name": "stdout",
          "output_type": "stream",
          "text": [
            "Epoch 10, Average Loss: 0.0164\n"
          ]
        },
        {
          "metadata": {
            "tags": null
          },
          "name": "stderr",
          "output_type": "stream",
          "text": [
            "Epoch 11/50: 100%|██████████| 583/583 [13:13<00:00,  1.36s/it, Loss=0.0350]\n"
          ]
        },
        {
          "metadata": {
            "tags": null
          },
          "name": "stdout",
          "output_type": "stream",
          "text": [
            "Epoch 11, Average Loss: 0.0157\n"
          ]
        },
        {
          "metadata": {
            "tags": null
          },
          "name": "stderr",
          "output_type": "stream",
          "text": [
            "Epoch 12/50: 100%|██████████| 583/583 [13:15<00:00,  1.36s/it, Loss=0.0089]\n"
          ]
        },
        {
          "metadata": {
            "tags": null
          },
          "name": "stdout",
          "output_type": "stream",
          "text": [
            "Epoch 12, Average Loss: 0.0144\n"
          ]
        },
        {
          "metadata": {
            "tags": null
          },
          "name": "stderr",
          "output_type": "stream",
          "text": [
            "Epoch 13/50: 100%|██████████| 583/583 [13:13<00:00,  1.36s/it, Loss=0.0064]\n"
          ]
        },
        {
          "metadata": {
            "tags": null
          },
          "name": "stdout",
          "output_type": "stream",
          "text": [
            "Epoch 13, Average Loss: 0.0149\n"
          ]
        },
        {
          "metadata": {
            "tags": null
          },
          "name": "stderr",
          "output_type": "stream",
          "text": [
            "Epoch 14/50: 100%|██████████| 583/583 [13:14<00:00,  1.36s/it, Loss=0.0028]\n"
          ]
        },
        {
          "metadata": {
            "tags": null
          },
          "name": "stdout",
          "output_type": "stream",
          "text": [
            "Epoch 14, Average Loss: 0.0136\n"
          ]
        },
        {
          "metadata": {
            "tags": null
          },
          "name": "stderr",
          "output_type": "stream",
          "text": [
            "Epoch 15/50: 100%|██████████| 583/583 [13:13<00:00,  1.36s/it, Loss=0.0040]\n"
          ]
        },
        {
          "metadata": {
            "tags": null
          },
          "name": "stdout",
          "output_type": "stream",
          "text": [
            "Epoch 15, Average Loss: 0.0123\n"
          ]
        },
        {
          "metadata": {
            "tags": null
          },
          "name": "stderr",
          "output_type": "stream",
          "text": [
            "Epoch 16/50: 100%|██████████| 583/583 [13:13<00:00,  1.36s/it, Loss=0.0120]\n"
          ]
        },
        {
          "metadata": {
            "tags": null
          },
          "name": "stdout",
          "output_type": "stream",
          "text": [
            "Epoch 16, Average Loss: 0.0122\n"
          ]
        },
        {
          "metadata": {
            "tags": null
          },
          "name": "stderr",
          "output_type": "stream",
          "text": [
            "Epoch 17/50: 100%|██████████| 583/583 [13:13<00:00,  1.36s/it, Loss=0.0007]\n"
          ]
        },
        {
          "metadata": {
            "tags": null
          },
          "name": "stdout",
          "output_type": "stream",
          "text": [
            "Epoch 17, Average Loss: 0.0109\n"
          ]
        },
        {
          "metadata": {
            "tags": null
          },
          "name": "stderr",
          "output_type": "stream",
          "text": [
            "Epoch 18/50: 100%|██████████| 583/583 [13:14<00:00,  1.36s/it, Loss=0.0059]\n"
          ]
        },
        {
          "metadata": {
            "tags": null
          },
          "name": "stdout",
          "output_type": "stream",
          "text": [
            "Epoch 18, Average Loss: 0.0102\n"
          ]
        },
        {
          "metadata": {
            "tags": null
          },
          "name": "stderr",
          "output_type": "stream",
          "text": [
            "Epoch 19/50: 100%|██████████| 583/583 [13:12<00:00,  1.36s/it, Loss=0.0029]\n"
          ]
        },
        {
          "metadata": {
            "tags": null
          },
          "name": "stdout",
          "output_type": "stream",
          "text": [
            "Epoch 19, Average Loss: 0.0106\n"
          ]
        },
        {
          "metadata": {
            "tags": null
          },
          "name": "stderr",
          "output_type": "stream",
          "text": [
            "Epoch 20/50: 100%|██████████| 583/583 [13:15<00:00,  1.37s/it, Loss=0.0023]\n"
          ]
        },
        {
          "metadata": {
            "tags": null
          },
          "name": "stdout",
          "output_type": "stream",
          "text": [
            "Epoch 20, Average Loss: 0.0087\n"
          ]
        },
        {
          "metadata": {
            "tags": null
          },
          "name": "stderr",
          "output_type": "stream",
          "text": [
            "Epoch 21/50: 100%|██████████| 583/583 [13:14<00:00,  1.36s/it, Loss=0.0017]\n"
          ]
        },
        {
          "metadata": {
            "tags": null
          },
          "name": "stdout",
          "output_type": "stream",
          "text": [
            "Epoch 21, Average Loss: 0.0107\n"
          ]
        },
        {
          "metadata": {
            "tags": null
          },
          "name": "stderr",
          "output_type": "stream",
          "text": [
            "Epoch 22/50: 100%|██████████| 583/583 [13:13<00:00,  1.36s/it, Loss=0.0040]\n"
          ]
        },
        {
          "metadata": {
            "tags": null
          },
          "name": "stdout",
          "output_type": "stream",
          "text": [
            "Epoch 22, Average Loss: 0.0102\n"
          ]
        },
        {
          "metadata": {
            "tags": null
          },
          "name": "stderr",
          "output_type": "stream",
          "text": [
            "Epoch 23/50: 100%|██████████| 583/583 [13:13<00:00,  1.36s/it, Loss=0.0056]\n"
          ]
        },
        {
          "metadata": {
            "tags": null
          },
          "name": "stdout",
          "output_type": "stream",
          "text": [
            "Epoch 23, Average Loss: 0.0093\n"
          ]
        },
        {
          "metadata": {
            "tags": null
          },
          "name": "stderr",
          "output_type": "stream",
          "text": [
            "Epoch 24/50: 100%|██████████| 583/583 [13:14<00:00,  1.36s/it, Loss=0.0013]\n"
          ]
        },
        {
          "metadata": {
            "tags": null
          },
          "name": "stdout",
          "output_type": "stream",
          "text": [
            "Epoch 24, Average Loss: 0.0072\n"
          ]
        },
        {
          "metadata": {
            "tags": null
          },
          "name": "stderr",
          "output_type": "stream",
          "text": [
            "Epoch 25/50: 100%|██████████| 583/583 [13:13<00:00,  1.36s/it, Loss=0.0210]\n"
          ]
        },
        {
          "metadata": {
            "tags": null
          },
          "name": "stdout",
          "output_type": "stream",
          "text": [
            "Epoch 25, Average Loss: 0.0086\n"
          ]
        },
        {
          "metadata": {
            "tags": null
          },
          "name": "stderr",
          "output_type": "stream",
          "text": [
            "Epoch 26/50: 100%|██████████| 583/583 [13:13<00:00,  1.36s/it, Loss=0.0005]\n"
          ]
        },
        {
          "metadata": {
            "tags": null
          },
          "name": "stdout",
          "output_type": "stream",
          "text": [
            "Epoch 26, Average Loss: 0.0090\n"
          ]
        },
        {
          "metadata": {
            "tags": null
          },
          "name": "stderr",
          "output_type": "stream",
          "text": [
            "Epoch 27/50: 100%|██████████| 583/583 [13:13<00:00,  1.36s/it, Loss=0.0004]\n"
          ]
        },
        {
          "metadata": {
            "tags": null
          },
          "name": "stdout",
          "output_type": "stream",
          "text": [
            "Epoch 27, Average Loss: 0.0084\n"
          ]
        },
        {
          "metadata": {
            "tags": null
          },
          "name": "stderr",
          "output_type": "stream",
          "text": [
            "Epoch 28/50: 100%|██████████| 583/583 [13:13<00:00,  1.36s/it, Loss=0.0169]\n"
          ]
        },
        {
          "metadata": {
            "tags": null
          },
          "name": "stdout",
          "output_type": "stream",
          "text": [
            "Epoch 28, Average Loss: 0.0084\n"
          ]
        },
        {
          "metadata": {
            "tags": null
          },
          "name": "stderr",
          "output_type": "stream",
          "text": [
            "Epoch 29/50: 100%|██████████| 583/583 [13:13<00:00,  1.36s/it, Loss=0.0020]\n"
          ]
        },
        {
          "metadata": {
            "tags": null
          },
          "name": "stdout",
          "output_type": "stream",
          "text": [
            "Epoch 29, Average Loss: 0.0074\n"
          ]
        },
        {
          "metadata": {
            "tags": null
          },
          "name": "stderr",
          "output_type": "stream",
          "text": [
            "Epoch 30/50: 100%|██████████| 583/583 [13:13<00:00,  1.36s/it, Loss=0.0155]\n"
          ]
        },
        {
          "metadata": {
            "tags": null
          },
          "name": "stdout",
          "output_type": "stream",
          "text": [
            "Epoch 30, Average Loss: 0.0073\n"
          ]
        },
        {
          "metadata": {
            "tags": null
          },
          "name": "stderr",
          "output_type": "stream",
          "text": [
            "Epoch 31/50: 100%|██████████| 583/583 [13:14<00:00,  1.36s/it, Loss=0.0066]\n"
          ]
        },
        {
          "metadata": {
            "tags": null
          },
          "name": "stdout",
          "output_type": "stream",
          "text": [
            "Epoch 31, Average Loss: 0.0087\n"
          ]
        },
        {
          "metadata": {
            "tags": null
          },
          "name": "stderr",
          "output_type": "stream",
          "text": [
            "Epoch 32/50: 100%|██████████| 583/583 [13:13<00:00,  1.36s/it, Loss=0.0020]\n"
          ]
        },
        {
          "metadata": {
            "tags": null
          },
          "name": "stdout",
          "output_type": "stream",
          "text": [
            "Epoch 32, Average Loss: 0.0083\n"
          ]
        },
        {
          "metadata": {
            "tags": null
          },
          "name": "stderr",
          "output_type": "stream",
          "text": [
            "Epoch 33/50: 100%|██████████| 583/583 [13:13<00:00,  1.36s/it, Loss=0.0011]\n"
          ]
        },
        {
          "metadata": {
            "tags": null
          },
          "name": "stdout",
          "output_type": "stream",
          "text": [
            "Epoch 33, Average Loss: 0.0075\n"
          ]
        },
        {
          "metadata": {
            "tags": null
          },
          "name": "stderr",
          "output_type": "stream",
          "text": [
            "Epoch 34/50: 100%|██████████| 583/583 [13:13<00:00,  1.36s/it, Loss=0.0047]\n"
          ]
        },
        {
          "metadata": {
            "tags": null
          },
          "name": "stdout",
          "output_type": "stream",
          "text": [
            "Epoch 34, Average Loss: 0.0066\n"
          ]
        },
        {
          "metadata": {
            "tags": null
          },
          "name": "stderr",
          "output_type": "stream",
          "text": [
            "Epoch 35/50: 100%|██████████| 583/583 [13:13<00:00,  1.36s/it, Loss=0.0022]\n"
          ]
        },
        {
          "metadata": {
            "tags": null
          },
          "name": "stdout",
          "output_type": "stream",
          "text": [
            "Epoch 35, Average Loss: 0.0069\n"
          ]
        },
        {
          "metadata": {
            "tags": null
          },
          "name": "stderr",
          "output_type": "stream",
          "text": [
            "Epoch 36/50: 100%|██████████| 583/583 [13:14<00:00,  1.36s/it, Loss=0.0104]\n"
          ]
        },
        {
          "metadata": {
            "tags": null
          },
          "name": "stdout",
          "output_type": "stream",
          "text": [
            "Epoch 36, Average Loss: 0.0073\n"
          ]
        },
        {
          "output_type": "stream",
          "name": "stderr",
          "text": [
            "Epoch 37/50: 100%|██████████| 583/583 [13:13<00:00,  1.36s/it, Loss=0.0022]\n"
          ]
        },
        {
          "output_type": "stream",
          "name": "stdout",
          "text": [
            "Epoch 37, Average Loss: 0.0076\n"
          ]
        },
        {
          "output_type": "stream",
          "name": "stderr",
          "text": [
            "Epoch 38/50: 100%|██████████| 583/583 [13:14<00:00,  1.36s/it, Loss=0.0014]\n"
          ]
        },
        {
          "output_type": "stream",
          "name": "stdout",
          "text": [
            "Epoch 38, Average Loss: 0.0062\n"
          ]
        },
        {
          "output_type": "stream",
          "name": "stderr",
          "text": [
            "Epoch 39/50: 100%|██████████| 583/583 [13:13<00:00,  1.36s/it, Loss=0.0014]\n"
          ]
        },
        {
          "output_type": "stream",
          "name": "stdout",
          "text": [
            "Epoch 39, Average Loss: 0.0062\n"
          ]
        },
        {
          "output_type": "stream",
          "name": "stderr",
          "text": [
            "Epoch 40/50: 100%|██████████| 583/583 [13:13<00:00,  1.36s/it, Loss=0.0055]\n"
          ]
        },
        {
          "output_type": "stream",
          "name": "stdout",
          "text": [
            "Epoch 40, Average Loss: 0.0067\n"
          ]
        },
        {
          "output_type": "stream",
          "name": "stderr",
          "text": [
            "Epoch 41/50: 100%|██████████| 583/583 [13:13<00:00,  1.36s/it, Loss=0.0086]\n"
          ]
        },
        {
          "output_type": "stream",
          "name": "stdout",
          "text": [
            "Epoch 41, Average Loss: 0.0063\n"
          ]
        },
        {
          "output_type": "stream",
          "name": "stderr",
          "text": [
            "Epoch 42/50: 100%|██████████| 583/583 [13:13<00:00,  1.36s/it, Loss=0.0383]\n"
          ]
        },
        {
          "output_type": "stream",
          "name": "stdout",
          "text": [
            "Epoch 42, Average Loss: 0.0068\n"
          ]
        },
        {
          "output_type": "stream",
          "name": "stderr",
          "text": [
            "Epoch 43/50: 100%|██████████| 583/583 [13:14<00:00,  1.36s/it, Loss=0.0174]\n"
          ]
        },
        {
          "output_type": "stream",
          "name": "stdout",
          "text": [
            "Epoch 43, Average Loss: 0.0065\n"
          ]
        },
        {
          "output_type": "stream",
          "name": "stderr",
          "text": [
            "Epoch 44/50: 100%|██████████| 583/583 [13:13<00:00,  1.36s/it, Loss=0.0006]\n"
          ]
        },
        {
          "output_type": "stream",
          "name": "stdout",
          "text": [
            "Epoch 44, Average Loss: 0.0062\n"
          ]
        },
        {
          "output_type": "stream",
          "name": "stderr",
          "text": [
            "Epoch 45/50: 100%|██████████| 583/583 [13:14<00:00,  1.36s/it, Loss=0.0011]\n"
          ]
        },
        {
          "output_type": "stream",
          "name": "stdout",
          "text": [
            "Epoch 45, Average Loss: 0.0067\n"
          ]
        },
        {
          "output_type": "stream",
          "name": "stderr",
          "text": [
            "Epoch 46/50: 100%|██████████| 583/583 [13:13<00:00,  1.36s/it, Loss=0.0200]\n"
          ]
        },
        {
          "output_type": "stream",
          "name": "stdout",
          "text": [
            "Epoch 46, Average Loss: 0.0053\n"
          ]
        },
        {
          "output_type": "stream",
          "name": "stderr",
          "text": [
            "Epoch 47/50: 100%|██████████| 583/583 [13:14<00:00,  1.36s/it, Loss=0.0005]\n"
          ]
        },
        {
          "output_type": "stream",
          "name": "stdout",
          "text": [
            "Epoch 47, Average Loss: 0.0072\n"
          ]
        },
        {
          "output_type": "stream",
          "name": "stderr",
          "text": [
            "Epoch 48/50: 100%|██████████| 583/583 [13:15<00:00,  1.36s/it, Loss=0.0073]\n"
          ]
        },
        {
          "output_type": "stream",
          "name": "stdout",
          "text": [
            "Epoch 48, Average Loss: 0.0080\n"
          ]
        },
        {
          "output_type": "stream",
          "name": "stderr",
          "text": [
            "Epoch 49/50: 100%|██████████| 583/583 [13:14<00:00,  1.36s/it, Loss=0.0174]\n"
          ]
        },
        {
          "output_type": "stream",
          "name": "stdout",
          "text": [
            "Epoch 49, Average Loss: 0.0084\n"
          ]
        },
        {
          "output_type": "stream",
          "name": "stderr",
          "text": [
            "Epoch 50/50: 100%|██████████| 583/583 [13:14<00:00,  1.36s/it, Loss=0.0101]"
          ]
        },
        {
          "output_type": "stream",
          "name": "stdout",
          "text": [
            "Epoch 50, Average Loss: 0.0079\n"
          ]
        },
        {
          "output_type": "stream",
          "name": "stderr",
          "text": [
            "\n"
          ]
        },
        {
          "output_type": "error",
          "ename": "NameError",
          "evalue": "name 'epoch' is not defined",
          "traceback": [
            "\u001b[0;31m---------------------------------------------------------------------------\u001b[0m",
            "\u001b[0;31mNameError\u001b[0m                                 Traceback (most recent call last)",
            "\u001b[0;32m/tmp/ipython-input-1874951409.py\u001b[0m in \u001b[0;36m<cell line: 0>\u001b[0;34m()\u001b[0m\n\u001b[1;32m     12\u001b[0m \u001b[0mdataloader\u001b[0m \u001b[0;34m=\u001b[0m \u001b[0mDataLoader\u001b[0m\u001b[0;34m(\u001b[0m\u001b[0mdataset\u001b[0m\u001b[0;34m,\u001b[0m \u001b[0mbatch_size\u001b[0m\u001b[0;34m=\u001b[0m\u001b[0;36m64\u001b[0m\u001b[0;34m,\u001b[0m \u001b[0mshuffle\u001b[0m\u001b[0;34m=\u001b[0m\u001b[0;32mTrue\u001b[0m\u001b[0;34m,\u001b[0m \u001b[0mcollate_fn\u001b[0m\u001b[0;34m=\u001b[0m\u001b[0mcollate_contrastive\u001b[0m\u001b[0;34m)\u001b[0m\u001b[0;34m\u001b[0m\u001b[0;34m\u001b[0m\u001b[0m\n\u001b[1;32m     13\u001b[0m \u001b[0mtrain_contrastive_model\u001b[0m\u001b[0;34m(\u001b[0m\u001b[0mmodel\u001b[0m\u001b[0;34m,\u001b[0m \u001b[0mdataloader\u001b[0m\u001b[0;34m,\u001b[0m \u001b[0moptimizer\u001b[0m\u001b[0;34m,\u001b[0m \u001b[0mdevice\u001b[0m\u001b[0;34m,\u001b[0m \u001b[0mnum_epochs\u001b[0m\u001b[0;34m=\u001b[0m\u001b[0;36m50\u001b[0m\u001b[0;34m)\u001b[0m\u001b[0;34m\u001b[0m\u001b[0;34m\u001b[0m\u001b[0m\n\u001b[0;32m---> 14\u001b[0;31m \u001b[0;32mif\u001b[0m \u001b[0mepoch\u001b[0m \u001b[0;34m%\u001b[0m \u001b[0;36m10\u001b[0m \u001b[0;34m==\u001b[0m \u001b[0;36m0\u001b[0m\u001b[0;34m:\u001b[0m\u001b[0;34m\u001b[0m\u001b[0;34m\u001b[0m\u001b[0m\n\u001b[0m\u001b[1;32m     15\u001b[0m     \u001b[0mtorch\u001b[0m\u001b[0;34m.\u001b[0m\u001b[0msave\u001b[0m\u001b[0;34m(\u001b[0m\u001b[0mmodel\u001b[0m\u001b[0;34m.\u001b[0m\u001b[0mencoder\u001b[0m\u001b[0;34m.\u001b[0m\u001b[0mstate_dict\u001b[0m\u001b[0;34m(\u001b[0m\u001b[0;34m)\u001b[0m\u001b[0;34m,\u001b[0m \u001b[0;34mf'encoder_epoch_{epoch}.pth'\u001b[0m\u001b[0;34m)\u001b[0m\u001b[0;34m\u001b[0m\u001b[0;34m\u001b[0m\u001b[0m\n",
            "\u001b[0;31mNameError\u001b[0m: name 'epoch' is not defined"
          ]
        }
      ],
      "source": [
        "# Create dataset\n",
        "dataset = ContrastiveDataset(tot_smiles, similarity_threshold=0.7)  # Lower threshold for small example\n",
        "\n",
        "# Initialize model\n",
        "device = torch.device('cuda' if torch.cuda.is_available() else 'cpu')\n",
        "model = ContrastiveLearningModel().to(device)\n",
        "optimizer = torch.optim.Adam(model.parameters(), lr=0.001)\n",
        "\n",
        "print(f\"Training on {device}\")\n",
        "print(f\"Model has {sum(p.numel() for p in model.parameters())} parameters\")\n",
        "\n",
        "dataloader = DataLoader(dataset, batch_size=64, shuffle=True, collate_fn=collate_contrastive)\n",
        "train_contrastive_model(model, dataloader, optimizer, device, num_epochs=50)"
      ]
    },
    {
      "cell_type": "code",
      "source": [
        "# Save the encoder (after training is complete)\n",
        "torch.save(model.encoder.state_dict(), 'pretrained_encoder.pth')\n",
        "print(\"Encoder saved!\")"
      ],
      "metadata": {
        "colab": {
          "base_uri": "https://localhost:8080/"
        },
        "id": "gJbUAeOUmkQ7",
        "outputId": "d3a02d62-11e9-4b12-c53e-92ed86de6198"
      },
      "execution_count": null,
      "outputs": [
        {
          "output_type": "stream",
          "name": "stdout",
          "text": [
            "Encoder saved!\n"
          ]
        }
      ]
    },
    {
      "cell_type": "code",
      "source": [
        "torch.save(model.state_dict(), 'full_contrastive_model.pth')\n",
        "print(\"Full model saved!\")"
      ],
      "metadata": {
        "colab": {
          "base_uri": "https://localhost:8080/"
        },
        "id": "Fn-EOixspTy9",
        "outputId": "56a8cdd3-e17b-4721-ecb5-5137281215af"
      },
      "execution_count": null,
      "outputs": [
        {
          "output_type": "stream",
          "name": "stdout",
          "text": [
            "Full model saved!\n"
          ]
        }
      ]
    },
    {
      "cell_type": "code",
      "source": [
        "import numpy as np"
      ],
      "metadata": {
        "id": "ROjCQSFoxasC"
      },
      "execution_count": 9,
      "outputs": []
    },
    {
      "cell_type": "code",
      "source": [
        "device = torch.device('cuda' if torch.cuda.is_available() else 'cpu')\n",
        "model = ContrastiveLearningModel().to(device)\n",
        "optimizer = torch.optim.Adam(model.parameters(), lr=0.001)"
      ],
      "metadata": {
        "id": "hT9rj-Yb-0aG"
      },
      "execution_count": 11,
      "outputs": []
    },
    {
      "cell_type": "code",
      "source": [
        "# Load your full contrastive model\n",
        "model = ContrastiveLearningModel()\n",
        "model.load_state_dict(torch.load('full_contrastive_model.pth'))\n",
        "model.eval()\n",
        "model = model.to(device)\n",
        "\n",
        "# Extract just the encoder\n",
        "encoder = model.encoder\n",
        "print(\"Encoder extracted from full model!\")\n",
        "\n",
        "# Load training data\n",
        "smiles_list = train['SMILES'].tolist()\n",
        "print(f\"Total molecules to process: {len(smiles_list)}\")\n",
        "\n",
        "# Initialize graph converter\n",
        "graph_converter = SMILESToGraph()\n",
        "\n",
        "# Extract embeddings\n",
        "embeddings = []\n",
        "valid_indices = []\n",
        "\n",
        "print(\"Extracting embeddings...\")\n",
        "for i, smiles in enumerate(smiles_list):\n",
        "    try:\n",
        "        # Convert SMILES to graph\n",
        "        graph = graph_converter.smiles_to_graph(smiles)\n",
        "        if graph is not None:\n",
        "            graph = graph.to(device)\n",
        "\n",
        "            # Add batch information (required for PyTorch Geometric)\n",
        "            graph.batch = torch.zeros(graph.x.size(0), dtype=torch.long, device=device)\n",
        "\n",
        "            # Get embedding from encoder\n",
        "            with torch.no_grad():\n",
        "                embedding = encoder(graph)  # Should give 256-dim vector\n",
        "                embeddings.append(embedding.cpu().numpy().flatten())\n",
        "                valid_indices.append(i)\n",
        "\n",
        "        if (i + 1) % 500 == 0:\n",
        "            print(f\"Processed {i + 1}/{len(smiles_list)} molecules...\")\n",
        "\n",
        "    except Exception as e:\n",
        "        print(f\"Failed to process molecule {i}: {e}\")\n",
        "\n",
        "embeddings = np.array(embeddings)\n",
        "valid_indices = np.array(valid_indices)\n",
        "\n",
        "print(f\"\\nSuccessfully extracted {len(embeddings)} embeddings\")\n",
        "print(f\"Embedding shape: {embeddings.shape}\")\n",
        "print(f\"Failed molecules: {len(smiles_list) - len(embeddings)}\")\n",
        "\n",
        "# Save them\n",
        "#np.save('molecular_embeddings.npy', embeddings)\n",
        "#np.save('valid_indices.npy', valid_indices)\n",
        "#print(\"Embeddings saved!\")"
      ],
      "metadata": {
        "colab": {
          "base_uri": "https://localhost:8080/"
        },
        "id": "za8w7_rEv0OF",
        "outputId": "53c95c9d-e411-4860-b372-8ca353622842"
      },
      "execution_count": 12,
      "outputs": [
        {
          "output_type": "stream",
          "name": "stdout",
          "text": [
            "Encoder extracted from full model!\n",
            "Total molecules to process: 7973\n",
            "Extracting embeddings...\n",
            "Processed 500/7973 molecules...\n",
            "Processed 1000/7973 molecules...\n",
            "Processed 1500/7973 molecules...\n",
            "Processed 2000/7973 molecules...\n",
            "Processed 2500/7973 molecules...\n",
            "Processed 3000/7973 molecules...\n",
            "Processed 3500/7973 molecules...\n",
            "Processed 4000/7973 molecules...\n",
            "Processed 4500/7973 molecules...\n",
            "Processed 5000/7973 molecules...\n",
            "Processed 5500/7973 molecules...\n",
            "Processed 6000/7973 molecules...\n",
            "Processed 6500/7973 molecules...\n",
            "Processed 7000/7973 molecules...\n",
            "Processed 7500/7973 molecules...\n",
            "\n",
            "Successfully extracted 7973 embeddings\n",
            "Embedding shape: (7973, 256)\n",
            "Failed molecules: 0\n"
          ]
        }
      ]
    },
    {
      "cell_type": "code",
      "source": [
        "from sklearn.model_selection import train_test_split\n",
        "from sklearn.ensemble import RandomForestRegressor\n",
        "import xgboost as xgb\n",
        "from sklearn.metrics import mean_absolute_error\n",
        "import matplotlib.pyplot as plt"
      ],
      "metadata": {
        "id": "QGdFBoApybHC"
      },
      "execution_count": 13,
      "outputs": []
    },
    {
      "cell_type": "code",
      "source": [
        "# Map embeddings back to original dataframe indices\n",
        "train_valid = train.iloc[valid_indices].reset_index(drop=True)\n",
        "train_valid"
      ],
      "metadata": {
        "colab": {
          "base_uri": "https://localhost:8080/",
          "height": 424
        },
        "id": "LMpgmf10yjCA",
        "outputId": "9c308912-1419-4736-ebef-400b08bea1b4"
      },
      "execution_count": 14,
      "outputs": [
        {
          "output_type": "execute_result",
          "data": {
            "text/plain": [
              "              id                                             SMILES  \\\n",
              "0          87817                         *CC(*)c1ccccc1C(=O)OCCCCCC   \n",
              "1         106919  *Nc1ccc([C@H](CCC)c2ccc(C3(c4ccc([C@@H](CCC)c5...   \n",
              "2         388772  *Oc1ccc(S(=O)(=O)c2ccc(Oc3ccc(C4(c5ccc(Oc6ccc(...   \n",
              "3         519416  *Nc1ccc(-c2c(-c3ccc(C)cc3)c(-c3ccc(C)cc3)c(N*)...   \n",
              "4         539187  *Oc1ccc(OC(=O)c2cc(OCCCCCCCCCOCC3CCCN3c3ccc([N...   \n",
              "...          ...                                                ...   \n",
              "7968  2146592435       *Oc1cc(CCCCCCCC)cc(OC(=O)c2cccc(C(*)=O)c2)c1   \n",
              "7969  2146810552  *C(=O)OCCN(CCOC(=O)c1ccc2c(c1)C(=O)N(c1cccc(N3...   \n",
              "7970  2147191531  *c1cc(C(=O)NCCCCCCCC)cc(N2C(=O)c3ccc(-c4ccc5c(...   \n",
              "7971  2147435020                                   *C=C(*)c1ccccc1C   \n",
              "7972  2147438299  *c1ccc(OCCCCCCCCCCCOC(=O)CCCCC(=O)OCCCCCCCCCCC...   \n",
              "\n",
              "              Tg       FFV        Tc  Density  Rg  \n",
              "0            NaN  0.374645  0.205667      NaN NaN  \n",
              "1            NaN  0.370410       NaN      NaN NaN  \n",
              "2            NaN  0.378860       NaN      NaN NaN  \n",
              "3            NaN  0.387324       NaN      NaN NaN  \n",
              "4            NaN  0.355470       NaN      NaN NaN  \n",
              "...          ...       ...       ...      ...  ..  \n",
              "7968         NaN  0.367498       NaN      NaN NaN  \n",
              "7969         NaN  0.353280       NaN      NaN NaN  \n",
              "7970         NaN  0.369411       NaN      NaN NaN  \n",
              "7971  261.662355       NaN       NaN      NaN NaN  \n",
              "7972         NaN  0.374049       NaN      NaN NaN  \n",
              "\n",
              "[7973 rows x 7 columns]"
            ],
            "text/html": [
              "\n",
              "  <div id=\"df-83187251-3a41-4d76-959d-dba64c829311\" class=\"colab-df-container\">\n",
              "    <div>\n",
              "<style scoped>\n",
              "    .dataframe tbody tr th:only-of-type {\n",
              "        vertical-align: middle;\n",
              "    }\n",
              "\n",
              "    .dataframe tbody tr th {\n",
              "        vertical-align: top;\n",
              "    }\n",
              "\n",
              "    .dataframe thead th {\n",
              "        text-align: right;\n",
              "    }\n",
              "</style>\n",
              "<table border=\"1\" class=\"dataframe\">\n",
              "  <thead>\n",
              "    <tr style=\"text-align: right;\">\n",
              "      <th></th>\n",
              "      <th>id</th>\n",
              "      <th>SMILES</th>\n",
              "      <th>Tg</th>\n",
              "      <th>FFV</th>\n",
              "      <th>Tc</th>\n",
              "      <th>Density</th>\n",
              "      <th>Rg</th>\n",
              "    </tr>\n",
              "  </thead>\n",
              "  <tbody>\n",
              "    <tr>\n",
              "      <th>0</th>\n",
              "      <td>87817</td>\n",
              "      <td>*CC(*)c1ccccc1C(=O)OCCCCCC</td>\n",
              "      <td>NaN</td>\n",
              "      <td>0.374645</td>\n",
              "      <td>0.205667</td>\n",
              "      <td>NaN</td>\n",
              "      <td>NaN</td>\n",
              "    </tr>\n",
              "    <tr>\n",
              "      <th>1</th>\n",
              "      <td>106919</td>\n",
              "      <td>*Nc1ccc([C@H](CCC)c2ccc(C3(c4ccc([C@@H](CCC)c5...</td>\n",
              "      <td>NaN</td>\n",
              "      <td>0.370410</td>\n",
              "      <td>NaN</td>\n",
              "      <td>NaN</td>\n",
              "      <td>NaN</td>\n",
              "    </tr>\n",
              "    <tr>\n",
              "      <th>2</th>\n",
              "      <td>388772</td>\n",
              "      <td>*Oc1ccc(S(=O)(=O)c2ccc(Oc3ccc(C4(c5ccc(Oc6ccc(...</td>\n",
              "      <td>NaN</td>\n",
              "      <td>0.378860</td>\n",
              "      <td>NaN</td>\n",
              "      <td>NaN</td>\n",
              "      <td>NaN</td>\n",
              "    </tr>\n",
              "    <tr>\n",
              "      <th>3</th>\n",
              "      <td>519416</td>\n",
              "      <td>*Nc1ccc(-c2c(-c3ccc(C)cc3)c(-c3ccc(C)cc3)c(N*)...</td>\n",
              "      <td>NaN</td>\n",
              "      <td>0.387324</td>\n",
              "      <td>NaN</td>\n",
              "      <td>NaN</td>\n",
              "      <td>NaN</td>\n",
              "    </tr>\n",
              "    <tr>\n",
              "      <th>4</th>\n",
              "      <td>539187</td>\n",
              "      <td>*Oc1ccc(OC(=O)c2cc(OCCCCCCCCCOCC3CCCN3c3ccc([N...</td>\n",
              "      <td>NaN</td>\n",
              "      <td>0.355470</td>\n",
              "      <td>NaN</td>\n",
              "      <td>NaN</td>\n",
              "      <td>NaN</td>\n",
              "    </tr>\n",
              "    <tr>\n",
              "      <th>...</th>\n",
              "      <td>...</td>\n",
              "      <td>...</td>\n",
              "      <td>...</td>\n",
              "      <td>...</td>\n",
              "      <td>...</td>\n",
              "      <td>...</td>\n",
              "      <td>...</td>\n",
              "    </tr>\n",
              "    <tr>\n",
              "      <th>7968</th>\n",
              "      <td>2146592435</td>\n",
              "      <td>*Oc1cc(CCCCCCCC)cc(OC(=O)c2cccc(C(*)=O)c2)c1</td>\n",
              "      <td>NaN</td>\n",
              "      <td>0.367498</td>\n",
              "      <td>NaN</td>\n",
              "      <td>NaN</td>\n",
              "      <td>NaN</td>\n",
              "    </tr>\n",
              "    <tr>\n",
              "      <th>7969</th>\n",
              "      <td>2146810552</td>\n",
              "      <td>*C(=O)OCCN(CCOC(=O)c1ccc2c(c1)C(=O)N(c1cccc(N3...</td>\n",
              "      <td>NaN</td>\n",
              "      <td>0.353280</td>\n",
              "      <td>NaN</td>\n",
              "      <td>NaN</td>\n",
              "      <td>NaN</td>\n",
              "    </tr>\n",
              "    <tr>\n",
              "      <th>7970</th>\n",
              "      <td>2147191531</td>\n",
              "      <td>*c1cc(C(=O)NCCCCCCCC)cc(N2C(=O)c3ccc(-c4ccc5c(...</td>\n",
              "      <td>NaN</td>\n",
              "      <td>0.369411</td>\n",
              "      <td>NaN</td>\n",
              "      <td>NaN</td>\n",
              "      <td>NaN</td>\n",
              "    </tr>\n",
              "    <tr>\n",
              "      <th>7971</th>\n",
              "      <td>2147435020</td>\n",
              "      <td>*C=C(*)c1ccccc1C</td>\n",
              "      <td>261.662355</td>\n",
              "      <td>NaN</td>\n",
              "      <td>NaN</td>\n",
              "      <td>NaN</td>\n",
              "      <td>NaN</td>\n",
              "    </tr>\n",
              "    <tr>\n",
              "      <th>7972</th>\n",
              "      <td>2147438299</td>\n",
              "      <td>*c1ccc(OCCCCCCCCCCCOC(=O)CCCCC(=O)OCCCCCCCCCCC...</td>\n",
              "      <td>NaN</td>\n",
              "      <td>0.374049</td>\n",
              "      <td>NaN</td>\n",
              "      <td>NaN</td>\n",
              "      <td>NaN</td>\n",
              "    </tr>\n",
              "  </tbody>\n",
              "</table>\n",
              "<p>7973 rows × 7 columns</p>\n",
              "</div>\n",
              "    <div class=\"colab-df-buttons\">\n",
              "\n",
              "  <div class=\"colab-df-container\">\n",
              "    <button class=\"colab-df-convert\" onclick=\"convertToInteractive('df-83187251-3a41-4d76-959d-dba64c829311')\"\n",
              "            title=\"Convert this dataframe to an interactive table.\"\n",
              "            style=\"display:none;\">\n",
              "\n",
              "  <svg xmlns=\"http://www.w3.org/2000/svg\" height=\"24px\" viewBox=\"0 -960 960 960\">\n",
              "    <path d=\"M120-120v-720h720v720H120Zm60-500h600v-160H180v160Zm220 220h160v-160H400v160Zm0 220h160v-160H400v160ZM180-400h160v-160H180v160Zm440 0h160v-160H620v160ZM180-180h160v-160H180v160Zm440 0h160v-160H620v160Z\"/>\n",
              "  </svg>\n",
              "    </button>\n",
              "\n",
              "  <style>\n",
              "    .colab-df-container {\n",
              "      display:flex;\n",
              "      gap: 12px;\n",
              "    }\n",
              "\n",
              "    .colab-df-convert {\n",
              "      background-color: #E8F0FE;\n",
              "      border: none;\n",
              "      border-radius: 50%;\n",
              "      cursor: pointer;\n",
              "      display: none;\n",
              "      fill: #1967D2;\n",
              "      height: 32px;\n",
              "      padding: 0 0 0 0;\n",
              "      width: 32px;\n",
              "    }\n",
              "\n",
              "    .colab-df-convert:hover {\n",
              "      background-color: #E2EBFA;\n",
              "      box-shadow: 0px 1px 2px rgba(60, 64, 67, 0.3), 0px 1px 3px 1px rgba(60, 64, 67, 0.15);\n",
              "      fill: #174EA6;\n",
              "    }\n",
              "\n",
              "    .colab-df-buttons div {\n",
              "      margin-bottom: 4px;\n",
              "    }\n",
              "\n",
              "    [theme=dark] .colab-df-convert {\n",
              "      background-color: #3B4455;\n",
              "      fill: #D2E3FC;\n",
              "    }\n",
              "\n",
              "    [theme=dark] .colab-df-convert:hover {\n",
              "      background-color: #434B5C;\n",
              "      box-shadow: 0px 1px 3px 1px rgba(0, 0, 0, 0.15);\n",
              "      filter: drop-shadow(0px 1px 2px rgba(0, 0, 0, 0.3));\n",
              "      fill: #FFFFFF;\n",
              "    }\n",
              "  </style>\n",
              "\n",
              "    <script>\n",
              "      const buttonEl =\n",
              "        document.querySelector('#df-83187251-3a41-4d76-959d-dba64c829311 button.colab-df-convert');\n",
              "      buttonEl.style.display =\n",
              "        google.colab.kernel.accessAllowed ? 'block' : 'none';\n",
              "\n",
              "      async function convertToInteractive(key) {\n",
              "        const element = document.querySelector('#df-83187251-3a41-4d76-959d-dba64c829311');\n",
              "        const dataTable =\n",
              "          await google.colab.kernel.invokeFunction('convertToInteractive',\n",
              "                                                    [key], {});\n",
              "        if (!dataTable) return;\n",
              "\n",
              "        const docLinkHtml = 'Like what you see? Visit the ' +\n",
              "          '<a target=\"_blank\" href=https://colab.research.google.com/notebooks/data_table.ipynb>data table notebook</a>'\n",
              "          + ' to learn more about interactive tables.';\n",
              "        element.innerHTML = '';\n",
              "        dataTable['output_type'] = 'display_data';\n",
              "        await google.colab.output.renderOutput(dataTable, element);\n",
              "        const docLink = document.createElement('div');\n",
              "        docLink.innerHTML = docLinkHtml;\n",
              "        element.appendChild(docLink);\n",
              "      }\n",
              "    </script>\n",
              "  </div>\n",
              "\n",
              "\n",
              "    <div id=\"df-4f981d43-3ac7-4054-a6b5-2eb29c25c708\">\n",
              "      <button class=\"colab-df-quickchart\" onclick=\"quickchart('df-4f981d43-3ac7-4054-a6b5-2eb29c25c708')\"\n",
              "                title=\"Suggest charts\"\n",
              "                style=\"display:none;\">\n",
              "\n",
              "<svg xmlns=\"http://www.w3.org/2000/svg\" height=\"24px\"viewBox=\"0 0 24 24\"\n",
              "     width=\"24px\">\n",
              "    <g>\n",
              "        <path d=\"M19 3H5c-1.1 0-2 .9-2 2v14c0 1.1.9 2 2 2h14c1.1 0 2-.9 2-2V5c0-1.1-.9-2-2-2zM9 17H7v-7h2v7zm4 0h-2V7h2v10zm4 0h-2v-4h2v4z\"/>\n",
              "    </g>\n",
              "</svg>\n",
              "      </button>\n",
              "\n",
              "<style>\n",
              "  .colab-df-quickchart {\n",
              "      --bg-color: #E8F0FE;\n",
              "      --fill-color: #1967D2;\n",
              "      --hover-bg-color: #E2EBFA;\n",
              "      --hover-fill-color: #174EA6;\n",
              "      --disabled-fill-color: #AAA;\n",
              "      --disabled-bg-color: #DDD;\n",
              "  }\n",
              "\n",
              "  [theme=dark] .colab-df-quickchart {\n",
              "      --bg-color: #3B4455;\n",
              "      --fill-color: #D2E3FC;\n",
              "      --hover-bg-color: #434B5C;\n",
              "      --hover-fill-color: #FFFFFF;\n",
              "      --disabled-bg-color: #3B4455;\n",
              "      --disabled-fill-color: #666;\n",
              "  }\n",
              "\n",
              "  .colab-df-quickchart {\n",
              "    background-color: var(--bg-color);\n",
              "    border: none;\n",
              "    border-radius: 50%;\n",
              "    cursor: pointer;\n",
              "    display: none;\n",
              "    fill: var(--fill-color);\n",
              "    height: 32px;\n",
              "    padding: 0;\n",
              "    width: 32px;\n",
              "  }\n",
              "\n",
              "  .colab-df-quickchart:hover {\n",
              "    background-color: var(--hover-bg-color);\n",
              "    box-shadow: 0 1px 2px rgba(60, 64, 67, 0.3), 0 1px 3px 1px rgba(60, 64, 67, 0.15);\n",
              "    fill: var(--button-hover-fill-color);\n",
              "  }\n",
              "\n",
              "  .colab-df-quickchart-complete:disabled,\n",
              "  .colab-df-quickchart-complete:disabled:hover {\n",
              "    background-color: var(--disabled-bg-color);\n",
              "    fill: var(--disabled-fill-color);\n",
              "    box-shadow: none;\n",
              "  }\n",
              "\n",
              "  .colab-df-spinner {\n",
              "    border: 2px solid var(--fill-color);\n",
              "    border-color: transparent;\n",
              "    border-bottom-color: var(--fill-color);\n",
              "    animation:\n",
              "      spin 1s steps(1) infinite;\n",
              "  }\n",
              "\n",
              "  @keyframes spin {\n",
              "    0% {\n",
              "      border-color: transparent;\n",
              "      border-bottom-color: var(--fill-color);\n",
              "      border-left-color: var(--fill-color);\n",
              "    }\n",
              "    20% {\n",
              "      border-color: transparent;\n",
              "      border-left-color: var(--fill-color);\n",
              "      border-top-color: var(--fill-color);\n",
              "    }\n",
              "    30% {\n",
              "      border-color: transparent;\n",
              "      border-left-color: var(--fill-color);\n",
              "      border-top-color: var(--fill-color);\n",
              "      border-right-color: var(--fill-color);\n",
              "    }\n",
              "    40% {\n",
              "      border-color: transparent;\n",
              "      border-right-color: var(--fill-color);\n",
              "      border-top-color: var(--fill-color);\n",
              "    }\n",
              "    60% {\n",
              "      border-color: transparent;\n",
              "      border-right-color: var(--fill-color);\n",
              "    }\n",
              "    80% {\n",
              "      border-color: transparent;\n",
              "      border-right-color: var(--fill-color);\n",
              "      border-bottom-color: var(--fill-color);\n",
              "    }\n",
              "    90% {\n",
              "      border-color: transparent;\n",
              "      border-bottom-color: var(--fill-color);\n",
              "    }\n",
              "  }\n",
              "</style>\n",
              "\n",
              "      <script>\n",
              "        async function quickchart(key) {\n",
              "          const quickchartButtonEl =\n",
              "            document.querySelector('#' + key + ' button');\n",
              "          quickchartButtonEl.disabled = true;  // To prevent multiple clicks.\n",
              "          quickchartButtonEl.classList.add('colab-df-spinner');\n",
              "          try {\n",
              "            const charts = await google.colab.kernel.invokeFunction(\n",
              "                'suggestCharts', [key], {});\n",
              "          } catch (error) {\n",
              "            console.error('Error during call to suggestCharts:', error);\n",
              "          }\n",
              "          quickchartButtonEl.classList.remove('colab-df-spinner');\n",
              "          quickchartButtonEl.classList.add('colab-df-quickchart-complete');\n",
              "        }\n",
              "        (() => {\n",
              "          let quickchartButtonEl =\n",
              "            document.querySelector('#df-4f981d43-3ac7-4054-a6b5-2eb29c25c708 button');\n",
              "          quickchartButtonEl.style.display =\n",
              "            google.colab.kernel.accessAllowed ? 'block' : 'none';\n",
              "        })();\n",
              "      </script>\n",
              "    </div>\n",
              "\n",
              "  <div id=\"id_28e4caa2-a847-4da7-9ad8-a0264bdfa213\">\n",
              "    <style>\n",
              "      .colab-df-generate {\n",
              "        background-color: #E8F0FE;\n",
              "        border: none;\n",
              "        border-radius: 50%;\n",
              "        cursor: pointer;\n",
              "        display: none;\n",
              "        fill: #1967D2;\n",
              "        height: 32px;\n",
              "        padding: 0 0 0 0;\n",
              "        width: 32px;\n",
              "      }\n",
              "\n",
              "      .colab-df-generate:hover {\n",
              "        background-color: #E2EBFA;\n",
              "        box-shadow: 0px 1px 2px rgba(60, 64, 67, 0.3), 0px 1px 3px 1px rgba(60, 64, 67, 0.15);\n",
              "        fill: #174EA6;\n",
              "      }\n",
              "\n",
              "      [theme=dark] .colab-df-generate {\n",
              "        background-color: #3B4455;\n",
              "        fill: #D2E3FC;\n",
              "      }\n",
              "\n",
              "      [theme=dark] .colab-df-generate:hover {\n",
              "        background-color: #434B5C;\n",
              "        box-shadow: 0px 1px 3px 1px rgba(0, 0, 0, 0.15);\n",
              "        filter: drop-shadow(0px 1px 2px rgba(0, 0, 0, 0.3));\n",
              "        fill: #FFFFFF;\n",
              "      }\n",
              "    </style>\n",
              "    <button class=\"colab-df-generate\" onclick=\"generateWithVariable('train_valid')\"\n",
              "            title=\"Generate code using this dataframe.\"\n",
              "            style=\"display:none;\">\n",
              "\n",
              "  <svg xmlns=\"http://www.w3.org/2000/svg\" height=\"24px\"viewBox=\"0 0 24 24\"\n",
              "       width=\"24px\">\n",
              "    <path d=\"M7,19H8.4L18.45,9,17,7.55,7,17.6ZM5,21V16.75L18.45,3.32a2,2,0,0,1,2.83,0l1.4,1.43a1.91,1.91,0,0,1,.58,1.4,1.91,1.91,0,0,1-.58,1.4L9.25,21ZM18.45,9,17,7.55Zm-12,3A5.31,5.31,0,0,0,4.9,8.1,5.31,5.31,0,0,0,1,6.5,5.31,5.31,0,0,0,4.9,4.9,5.31,5.31,0,0,0,6.5,1,5.31,5.31,0,0,0,8.1,4.9,5.31,5.31,0,0,0,12,6.5,5.46,5.46,0,0,0,6.5,12Z\"/>\n",
              "  </svg>\n",
              "    </button>\n",
              "    <script>\n",
              "      (() => {\n",
              "      const buttonEl =\n",
              "        document.querySelector('#id_28e4caa2-a847-4da7-9ad8-a0264bdfa213 button.colab-df-generate');\n",
              "      buttonEl.style.display =\n",
              "        google.colab.kernel.accessAllowed ? 'block' : 'none';\n",
              "\n",
              "      buttonEl.onclick = () => {\n",
              "        google.colab.notebook.generateWithVariable('train_valid');\n",
              "      }\n",
              "      })();\n",
              "    </script>\n",
              "  </div>\n",
              "\n",
              "    </div>\n",
              "  </div>\n"
            ],
            "application/vnd.google.colaboratory.intrinsic+json": {
              "type": "dataframe",
              "variable_name": "train_valid",
              "summary": "{\n  \"name\": \"train_valid\",\n  \"rows\": 7973,\n  \"fields\": [\n    {\n      \"column\": \"id\",\n      \"properties\": {\n        \"dtype\": \"number\",\n        \"std\": 621824101,\n        \"min\": 87817,\n        \"max\": 2147438299,\n        \"num_unique_values\": 7973,\n        \"samples\": [\n          2042618640,\n          377905218,\n          1409584413\n        ],\n        \"semantic_type\": \"\",\n        \"description\": \"\"\n      }\n    },\n    {\n      \"column\": \"SMILES\",\n      \"properties\": {\n        \"dtype\": \"string\",\n        \"num_unique_values\": 7973,\n        \"samples\": [\n          \"*C=Cc1ccc2c3ccc(*)cc3n(-c3ccc(OCCCCCCCCCC)c(OCCCCCCCCCC)c3)c2c1\",\n          \"*CC(=O)NCCCCCCNC(=O)Cc1ccc(O*)cc1\",\n          \"*CC(*)c1ccccc1C(=O)NC\"\n        ],\n        \"semantic_type\": \"\",\n        \"description\": \"\"\n      }\n    },\n    {\n      \"column\": \"Tg\",\n      \"properties\": {\n        \"dtype\": \"number\",\n        \"std\": 111.22827910797982,\n        \"min\": -148.0297376,\n        \"max\": 472.25,\n        \"num_unique_values\": 511,\n        \"samples\": [\n          23.2402228,\n          -3.571974592,\n          81.15934241\n        ],\n        \"semantic_type\": \"\",\n        \"description\": \"\"\n      }\n    },\n    {\n      \"column\": \"FFV\",\n      \"properties\": {\n        \"dtype\": \"number\",\n        \"std\": 0.029608779125387938,\n        \"min\": 0.2269924,\n        \"max\": 0.77709707,\n        \"num_unique_values\": 6995,\n        \"samples\": [\n          0.34341892,\n          0.35976311,\n          0.36434074\n        ],\n        \"semantic_type\": \"\",\n        \"description\": \"\"\n      }\n    },\n    {\n      \"column\": \"Tc\",\n      \"properties\": {\n        \"dtype\": \"number\",\n        \"std\": 0.08953784956659465,\n        \"min\": 0.0465,\n        \"max\": 0.524,\n        \"num_unique_values\": 497,\n        \"samples\": [\n          0.1897499999999999,\n          0.3125,\n          0.237\n        ],\n        \"semantic_type\": \"\",\n        \"description\": \"\"\n      }\n    },\n    {\n      \"column\": \"Density\",\n      \"properties\": {\n        \"dtype\": \"number\",\n        \"std\": 0.1461891539155501,\n        \"min\": 0.748691234,\n        \"max\": 1.840998909,\n        \"num_unique_values\": 613,\n        \"samples\": [\n          0.81190569,\n          0.919376466,\n          0.839799693\n        ],\n        \"semantic_type\": \"\",\n        \"description\": \"\"\n      }\n    },\n    {\n      \"column\": \"Rg\",\n      \"properties\": {\n        \"dtype\": \"number\",\n        \"std\": 4.608640086480219,\n        \"min\": 9.7283551,\n        \"max\": 34.672905605,\n        \"num_unique_values\": 614,\n        \"samples\": [\n          21.34846534,\n          11.1507459,\n          20.61494369\n        ],\n        \"semantic_type\": \"\",\n        \"description\": \"\"\n      }\n    }\n  ]\n}"
            }
          },
          "metadata": {},
          "execution_count": 14
        }
      ]
    },
    {
      "cell_type": "code",
      "source": [
        "# Focus on FFV (best coverage)\n",
        "ffv_mask = ~pd.isna(train_valid['FFV'])\n",
        "X_ffv = embeddings[ffv_mask]\n",
        "y_ffv = train_valid['FFV'][ffv_mask].values\n",
        "\n",
        "print(f\"FFV samples: {len(X_ffv)} / {len(embeddings)} ({len(X_ffv)/len(embeddings)*100:.1f}%)\")\n",
        "print(f\"FFV range: {y_ffv.min():.3f} to {y_ffv.max():.3f}\")"
      ],
      "metadata": {
        "colab": {
          "base_uri": "https://localhost:8080/"
        },
        "id": "Qtj4-wE90wji",
        "outputId": "6cdc6023-7646-4ba5-dcd7-6a9766adeeea"
      },
      "execution_count": 15,
      "outputs": [
        {
          "output_type": "stream",
          "name": "stdout",
          "text": [
            "FFV samples: 7030 / 7973 (88.2%)\n",
            "FFV range: 0.227 to 0.777\n"
          ]
        }
      ]
    },
    {
      "cell_type": "code",
      "source": [
        "# Train-test split\n",
        "X_train, X_test, y_train, y_test = train_test_split(X_ffv, y_ffv, test_size=0.2, random_state=42)"
      ],
      "metadata": {
        "id": "0ZzhqEGt06ge"
      },
      "execution_count": 16,
      "outputs": []
    },
    {
      "cell_type": "code",
      "source": [
        "# Try multiple models\n",
        "models = {\n",
        "    'XGBoost': xgb.XGBRegressor(n_estimators=100, random_state=42, eval_metric='mae'),\n",
        "    'RandomForest': RandomForestRegressor(n_estimators=25, random_state=42),\n",
        "}\n",
        "\n",
        "results = {}\n",
        "for name, model in models.items():\n",
        "    print(f\"\\nTraining {name}...\")\n",
        "    model.fit(X_train, y_train)\n",
        "\n",
        "    train_pred = model.predict(X_train)\n",
        "    test_pred = model.predict(X_test)\n",
        "\n",
        "    train_mae = mean_absolute_error(y_train, train_pred)\n",
        "    test_mae = mean_absolute_error(y_test, test_pred)\n",
        "\n",
        "    results[name] = {'train_mae': train_mae, 'test_mae': test_mae, 'model': model}\n",
        "\n",
        "    print(f\"{name} - Train MAE: {train_mae:.4f}, Test MAE: {test_mae:.4f}\")\n",
        "\n",
        "# Show best model\n",
        "best_model = min(results.keys(), key=lambda x: results[x]['test_mae'])\n",
        "print(f\"\\nBest model: {best_model} with Test MAE: {results[best_model]['test_mae']:.4f}\")\n",
        "\n",
        "# Plot predictions vs actual\n",
        "best_pred = results[best_model]['model'].predict(X_test)\n",
        "plt.figure(figsize=(8, 6))\n",
        "plt.scatter(y_test, best_pred, alpha=0.6)\n",
        "plt.plot([y_test.min(), y_test.max()], [y_test.min(), y_test.max()], 'r--')\n",
        "plt.xlabel('Actual FFV')\n",
        "plt.ylabel('Predicted FFV')\n",
        "plt.title(f'{best_model} Predictions vs Actual FFV')\n",
        "plt.show()"
      ],
      "metadata": {
        "colab": {
          "base_uri": "https://localhost:8080/",
          "height": 707
        },
        "id": "cKxCfRUM1mOD",
        "outputId": "d6308f85-bee9-44f4-d44b-cdac852afbcd"
      },
      "execution_count": 20,
      "outputs": [
        {
          "output_type": "stream",
          "name": "stdout",
          "text": [
            "\n",
            "Training XGBoost...\n",
            "XGBoost - Train MAE: 0.0019, Test MAE: 0.0101\n",
            "\n",
            "Training RandomForest...\n",
            "RandomForest - Train MAE: 0.0039, Test MAE: 0.0101\n",
            "\n",
            "Best model: XGBoost with Test MAE: 0.0101\n"
          ]
        },
        {
          "output_type": "display_data",
          "data": {
            "text/plain": [
              "<Figure size 800x600 with 1 Axes>"
            ],
            "image/png": "[encoded data removed]"
          },
          "metadata": {}
        }
      ]
    },
    {
      "cell_type": "code",
      "source": [
        "# First, train a stronger FFV model (your foundation)\n",
        "print(\"=== Training Enhanced FFV Model ===\")\n",
        "ffv_model = RandomForestRegressor(\n",
        "    n_estimators=50,\n",
        "    random_state=42\n",
        ")\n",
        "\n",
        "ffv_model.fit(X_train, y_train)  # Using your existing FFV split\n",
        "ffv_train_pred = ffv_model.predict(X_train)\n",
        "ffv_test_pred = ffv_model.predict(X_test)\n",
        "\n",
        "print(f\"Enhanced FFV Model:\")\n",
        "print(f\"Train MAE: {mean_absolute_error(y_train, ffv_train_pred):.4f}\")\n",
        "print(f\"Test MAE: {mean_absolute_error(y_test, ffv_test_pred):.4f}\")\n",
        "\n",
        "# Now predict properties with sparse data using transfer learning\n",
        "def train_sparse_property(property_name):\n",
        "    print(f\"\\n=== Training {property_name} with Transfer Learning ===\")\n",
        "\n",
        "    # Get samples with this property\n",
        "    prop_mask = ~pd.isna(train_valid[property_name])\n",
        "    X_prop = embeddings[prop_mask]\n",
        "    y_prop = train_valid[property_name][prop_mask].values\n",
        "\n",
        "    print(f\"{property_name} samples: {len(X_prop)} ({len(X_prop)/len(embeddings)*100:.1f}% coverage)\")\n",
        "    print(f\"{property_name} range: {y_prop.min():.3f} to {y_prop.max():.3f}\")\n",
        "\n",
        "    # Add FFV predictions as extra features\n",
        "    ffv_predictions = ffv_model.predict(X_prop)\n",
        "    X_enhanced = np.column_stack([X_prop, ffv_predictions])  # 256 + 1 = 257 features\n",
        "\n",
        "    # Train-test split\n",
        "    X_train_prop, X_test_prop, y_train_prop, y_test_prop = train_test_split(\n",
        "        X_enhanced, y_prop, test_size=0.2, random_state=42\n",
        "    )\n",
        "\n",
        "    # Train model with transfer learning features\n",
        "    models = {\n",
        "        'RandomForest': RandomForestRegressor(n_estimators=50, random_state=42),\n",
        "        'RandomForest_Deep': RandomForestRegressor(n_estimators=75, random_state=42)\n",
        "    }\n",
        "\n",
        "    results = {}\n",
        "    for name, model in models.items():\n",
        "        model.fit(X_train_prop, y_train_prop)\n",
        "\n",
        "        train_pred = model.predict(X_train_prop)\n",
        "        test_pred = model.predict(X_test_prop)\n",
        "\n",
        "        train_mae = mean_absolute_error(y_train_prop, train_pred)\n",
        "        test_mae = mean_absolute_error(y_test_prop, test_pred)\n",
        "\n",
        "        results[name] = {\n",
        "            'model': model,\n",
        "            'train_mae': train_mae,\n",
        "            'test_mae': test_mae,\n",
        "            'test_actual': y_test_prop,\n",
        "            'test_pred': test_pred\n",
        "        }\n",
        "\n",
        "        print(f\"{name} - Train MAE: {train_mae:.4f}, Test MAE: {test_mae:.4f}\")\n",
        "\n",
        "    # Return best model\n",
        "    best_name = min(results.keys(), key=lambda x: results[x]['test_mae'])\n",
        "    print(f\"Best {property_name} model: {best_name}\")\n",
        "\n",
        "    return results[best_name], results\n",
        "\n",
        "# Train all sparse properties\n",
        "sparse_properties = ['Tg', 'Tc', 'Density', 'Rg']\n",
        "property_models = {}\n",
        "\n",
        "for prop in sparse_properties:\n",
        "    best_model, all_results = train_sparse_property(prop)\n",
        "    property_models[prop] = best_model\n",
        "\n",
        "# Summary of all results\n",
        "print(\"\\n=== TRANSFER LEARNING SUMMARY ===\")\n",
        "print(f\"FFV (baseline): {mean_absolute_error(y_test, ffv_test_pred):.4f} MAE\")\n",
        "for prop in sparse_properties:\n",
        "    mae = property_models[prop]['test_mae']\n",
        "    samples = len(property_models[prop]['test_actual'])\n",
        "    print(f\"{prop}: {mae:.4f} MAE ({samples} test samples)\")"
      ],
      "metadata": {
        "colab": {
          "base_uri": "https://localhost:8080/"
        },
        "id": "wa1e9oaz2l6R",
        "outputId": "f3068aad-4f86-42cf-b0a1-4a7689ed855b"
      },
      "execution_count": 22,
      "outputs": [
        {
          "output_type": "stream",
          "name": "stdout",
          "text": [
            "=== Training Enhanced FFV Model ===\n",
            "Enhanced FFV Model:\n",
            "Train MAE: 0.0038\n",
            "Test MAE: 0.0098\n",
            "\n",
            "=== Training Tg with Transfer Learning ===\n",
            "Tg samples: 511 (6.4% coverage)\n",
            "Tg range: -148.030 to 472.250\n",
            "RandomForest - Train MAE: 21.7465, Test MAE: 58.9221\n",
            "RandomForest_Deep - Train MAE: 21.5372, Test MAE: 59.1439\n",
            "Best Tg model: RandomForest\n",
            "\n",
            "=== Training Tc with Transfer Learning ===\n",
            "Tc samples: 737 (9.2% coverage)\n",
            "Tc range: 0.046 to 0.524\n",
            "RandomForest - Train MAE: 0.0117, Test MAE: 0.0319\n",
            "RandomForest_Deep - Train MAE: 0.0117, Test MAE: 0.0318\n",
            "Best Tc model: RandomForest_Deep\n",
            "\n",
            "=== Training Density with Transfer Learning ===\n",
            "Density samples: 613 (7.7% coverage)\n",
            "Density range: 0.749 to 1.841\n",
            "RandomForest - Train MAE: 0.0181, Test MAE: 0.0471\n",
            "RandomForest_Deep - Train MAE: 0.0177, Test MAE: 0.0472\n",
            "Best Density model: RandomForest\n",
            "\n",
            "=== Training Rg with Transfer Learning ===\n",
            "Rg samples: 614 (7.7% coverage)\n",
            "Rg range: 9.728 to 34.673\n",
            "RandomForest - Train MAE: 0.6722, Test MAE: 1.8407\n",
            "RandomForest_Deep - Train MAE: 0.6622, Test MAE: 1.8446\n",
            "Best Rg model: RandomForest\n",
            "\n",
            "=== TRANSFER LEARNING SUMMARY ===\n",
            "FFV (baseline): 0.0098 MAE\n",
            "Tg: 58.9221 MAE (103 test samples)\n",
            "Tc: 0.0318 MAE (148 test samples)\n",
            "Density: 0.0471 MAE (123 test samples)\n",
            "Rg: 1.8407 MAE (123 test samples)\n"
          ]
        }
      ]
    },
    {
      "cell_type": "code",
      "source": [
        "# Load test data and predict all properties\n",
        "print(\"=== PREDICTING ON TEST DATASET ===\")\n",
        "\n",
        "# Load test data\n",
        "test_df = pd.read_csv('test.csv')  # Assuming you have this\n",
        "test_smiles = test_df['SMILES'].tolist()\n",
        "\n",
        "print(f\"Test dataset size: {len(test_smiles)}\")\n",
        "\n",
        "# Extract embeddings for test molecules\n",
        "print(\"Extracting test embeddings...\")\n",
        "test_embeddings = []\n",
        "test_valid_indices = []\n",
        "\n",
        "for i, smiles in enumerate(test_smiles):\n",
        "    try:\n",
        "        graph = graph_converter.smiles_to_graph(smiles)\n",
        "        if graph is not None:\n",
        "            graph = graph.to(device)\n",
        "            graph.batch = torch.zeros(graph.x.size(0), dtype=torch.long, device=device)\n",
        "\n",
        "            with torch.no_grad():\n",
        "                embedding = encoder(graph)\n",
        "                test_embeddings.append(embedding.cpu().numpy().flatten())\n",
        "                test_valid_indices.append(i)\n",
        "\n",
        "        if (i + 1) % 500 == 0:\n",
        "            print(f\"Processed {i + 1}/{len(test_smiles)} test molecules...\")\n",
        "\n",
        "    except Exception as e:\n",
        "        print(f\"Failed to process test molecule {i}: {e}\")\n",
        "\n",
        "test_embeddings = np.array(test_embeddings)\n",
        "print(f\"Successfully extracted {len(test_embeddings)} test embeddings\")\n",
        "\n",
        "# Predict FFV first\n",
        "ffv_test_pred = ffv_model.predict(test_embeddings)\n",
        "\n",
        "# Predict all properties using the trained models\n",
        "predictions = {}\n",
        "\n",
        "# FFV predictions\n",
        "predictions['FFV'] = ffv_test_pred\n",
        "\n",
        "# Predict sparse properties using transfer learning\n",
        "for prop in ['Tg', 'Tc', 'Density', 'Rg']:\n",
        "    # Add FFV as feature\n",
        "    test_enhanced = np.column_stack([test_embeddings, ffv_test_pred])\n",
        "\n",
        "    # Predict using best model for this property\n",
        "    model = property_models[prop]['model']\n",
        "    predictions[prop] = model.predict(test_enhanced)\n",
        "\n",
        "    print(f\"{prop} predictions - Range: {predictions[prop].min():.3f} to {predictions[prop].max():.3f}\")\n",
        "\n",
        "# Create submission file\n",
        "submission = pd.DataFrame({\n",
        "    'id': test_df['id'].iloc[test_valid_indices],  # Only valid molecules\n",
        "    'Tg': predictions['Tg'],\n",
        "    'FFV': predictions['FFV'],\n",
        "    'Tc': predictions['Tc'],\n",
        "    'Density': predictions['Density'],\n",
        "    'Rg': predictions['Rg']\n",
        "})\n",
        "\n",
        "# For failed molecules, fill with median values from training\n",
        "if len(test_valid_indices) < len(test_smiles):\n",
        "    print(f\"Warning: {len(test_smiles) - len(test_valid_indices)} molecules failed processing\")\n",
        "\n",
        "    # You'll need to handle failed molecules - maybe fill with training medians\n",
        "    # Or use simpler fingerprint-based predictions\n",
        "\n",
        "print(f\"Submission shape: {submission.shape}\")\n",
        "print(\"\\nFirst few predictions:\")\n",
        "print(submission.head())\n",
        "\n",
        "# Save submission\n",
        "submission.to_csv('submission.csv', index=False)\n",
        "print(\"Submission saved!\")"
      ],
      "metadata": {
        "colab": {
          "base_uri": "https://localhost:8080/"
        },
        "id": "-pcL29ju8z8Y",
        "outputId": "4448389a-44e3-45ec-c1e5-2ce705c5e0a8"
      },
      "execution_count": 23,
      "outputs": [
        {
          "output_type": "stream",
          "name": "stdout",
          "text": [
            "=== PREDICTING ON TEST DATASET ===\n",
            "Test dataset size: 3\n",
            "Extracting test embeddings...\n",
            "Successfully extracted 3 test embeddings\n",
            "Tg predictions - Range: 127.618 to 159.258\n",
            "Tc predictions - Range: 0.230 to 0.249\n",
            "Density predictions - Range: 1.046 to 1.103\n",
            "Rg predictions - Range: 18.005 to 22.367\n",
            "Submission shape: (3, 6)\n",
            "\n",
            "First few predictions:\n",
            "           id          Tg       FFV        Tc   Density         Rg\n",
            "0  1109053969  130.730906  0.367524  0.248687  1.046158  18.004878\n",
            "1  1422188626  159.257661  0.382772  0.229860  1.103265  22.366993\n",
            "2  2032016830  127.617682  0.353157  0.248660  1.052902  19.229685\n",
            "Submission saved!\n"
          ]
        }
      ]
    }
  ],
  "metadata": {
    "accelerator": "GPU",
    "colab": {
      "gpuType": "A100",
      "machine_shape": "hm",
      "provenance": []
    },
    "kernelspec": {
      "display_name": "Python 3",
      "name": "python3"
    },
    "language_info": {
      "name": "python"
    }
  },
  "nbformat": 4,
  "nbformat_minor": 0
}